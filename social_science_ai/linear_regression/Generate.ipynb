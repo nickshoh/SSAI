{
 "cells": [
  {
   "cell_type": "markdown",
   "metadata": {},
   "source": [
    "사용자가 지정하는 simple linear regression 방정식을 기반으로 y 값 도출하기 "
   ]
  },
  {
   "cell_type": "code",
   "execution_count": 4,
   "metadata": {},
   "outputs": [
    {
     "name": "stdout",
     "output_type": "stream",
     "text": [
      "Overwriting generate.py\n"
     ]
    }
   ],
   "source": [
    "%%writefile generate.py\n",
    "\n",
    "import numpy as np \n",
    "import scipy as sp\n",
    "import scipy.stats\n",
    "\n",
    "class SLR: \n",
    "    \n",
    "    def __init__(self): \n",
    "        self.equation = None\n",
    "        self.low, self.high = None, None\n",
    "        self.n_features = None\n",
    "        self.m_samples = None\n",
    "        self.noise = None\n",
    "        self.noise_dist = None \n",
    "    \n",
    "    def random_sampling(self, low=1, high=10, n_features=1, m_samples=25): \n",
    "        \n",
    "        self.low, self.high = low, high \n",
    "        self.n_features = n_features \n",
    "        self.m_samples = m_samples\n",
    "        \n",
    "        x = np.array(np.random.uniform(low=self.low, high=self.high, size=(self.n_features, self.m_samples)))\n",
    "        \n",
    "        return x \n",
    "    \n",
    "    def random_treatment(self, x, n_features=1, m_samples=25, noise=0.1, noise_dist='Normal'):  \n",
    "        \n",
    "        self.x = x  \n",
    "        self.n_features = n_features  \n",
    "        self.m_samples = m_samples \n",
    "        self.noise = noise  \n",
    "        self.noise_dist = noise_dist\n",
    "        \n",
    "        y = np.empty([self.n_features, self.m_samples])\n",
    "        y_hat = 0.5*self.x + 1  \n",
    "    \n",
    "        for i in range (0, self.m_samples):\n",
    "            y_rvs = sp.stats.norm(loc=y_hat[0,i], scale=self.noise).rvs(size=(1,100))\n",
    "            y[0][i] = np.random.choice(y_rvs[0], 1)\n",
    "    \n",
    "        return y\n",
    "    \n",
    "#     def mvSLR(): \n",
    "#         pass \n",
    "    \n",
    "#     def MLR(): \n",
    "#         pass \n",
    "    \n",
    "#     def mvMLR(): \n",
    "#         pass\n",
    "    \n",
    "#     def classification(): \n",
    "#         pass"
   ]
  },
  {
   "cell_type": "code",
   "execution_count": 9,
   "metadata": {
    "scrolled": true
   },
   "outputs": [
    {
     "data": {
      "text/plain": [
       "<matplotlib.collections.PathCollection at 0x2358c7ac388>"
      ]
     },
     "execution_count": 9,
     "metadata": {},
     "output_type": "execute_result"
    },
    {
     "data": {
      "image/png": "[encoded data removed]",
      "text/plain": [
       "<Figure size 432x288 with 1 Axes>"
      ]
     },
     "metadata": {
      "needs_background": "light"
     },
     "output_type": "display_data"
    }
   ],
   "source": [
    "import generate \n",
    "import matplotlib.pylab as plt\n",
    "\n",
    "SLR = generate.SLR() \n",
    "\n",
    "x = SLR.random_sampling() \n",
    "y = SLR.random_treatment(x)\n",
    "\n",
    "plt.scatter(x,y)"
   ]
  },
  {
   "cell_type": "code",
   "execution_count": 13,
   "metadata": {},
   "outputs": [
    {
     "data": {
      "text/plain": [
       "<matplotlib.collections.PathCollection at 0x2358c88af48>"
      ]
     },
     "execution_count": 13,
     "metadata": {},
     "output_type": "execute_result"
    },
    {
     "data": {
      "image/png": "[encoded data removed]",
      "text/plain": [
       "<Figure size 432x288 with 1 Axes>"
      ]
     },
     "metadata": {
      "needs_background": "light"
     },
     "output_type": "display_data"
    }
   ],
   "source": [
    "n_features = 1 \n",
    "m_samples = 100 \n",
    "noise = 0.5\n",
    "\n",
    "x1 = SLR.random_sampling(1, 50, n_features, m_samples)\n",
    "y1 = SLR.random_treatment(x1, n_features, m_samples, noise)\n",
    "\n",
    "plt.scatter(x1,y1)"
   ]
  },
  {
   "cell_type": "code",
   "execution_count": null,
   "metadata": {},
   "outputs": [],
   "source": []
  }
 ],
 "metadata": {
  "kernelspec": {
   "display_name": "Python 3",
   "language": "python",
   "name": "python3"
  },
  "language_info": {
   "codemirror_mode": {
    "name": "ipython",
    "version": 3
   },
   "file_extension": ".py",
   "mimetype": "text/x-python",
   "name": "python",
   "nbconvert_exporter": "python",
   "pygments_lexer": "ipython3",
   "version": "3.7.6"
  }
 },
 "nbformat": 4,
 "nbformat_minor": 4
}
