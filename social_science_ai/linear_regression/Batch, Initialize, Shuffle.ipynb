{
 "cells": [
  {
   "cell_type": "markdown",
   "metadata": {},
   "source": [
    "**Batch** \n",
    "* batch(X, Y, batch_size = int)  \n",
    "* X : Matrix where no. of rows = n_features, and no. of columns = m_samples (NXM) \n",
    "* Y : Row Vector where no. of columns = m_samples \n",
    "* batch_size : Defining submatrix of X, where no. of rows = n_features, and no. of columns = int"
   ]
  },
  {
   "cell_type": "code",
   "execution_count": 1,
   "metadata": {},
   "outputs": [],
   "source": [
    "import numpy as np "
   ]
  },
  {
   "cell_type": "code",
   "execution_count": 34,
   "metadata": {
    "scrolled": true
   },
   "outputs": [
    {
     "data": {
      "text/plain": [
       "(array([[ 0,  1,  2,  3,  4,  5,  6,  7,  8,  9],\n",
       "        [10, 11, 12, 13, 14, 15, 16, 17, 18, 19],\n",
       "        [20, 21, 22, 23, 24, 25, 26, 27, 28, 29],\n",
       "        [30, 31, 32, 33, 34, 35, 36, 37, 38, 39],\n",
       "        [40, 41, 42, 43, 44, 45, 46, 47, 48, 49],\n",
       "        [50, 51, 52, 53, 54, 55, 56, 57, 58, 59],\n",
       "        [60, 61, 62, 63, 64, 65, 66, 67, 68, 69],\n",
       "        [70, 71, 72, 73, 74, 75, 76, 77, 78, 79],\n",
       "        [80, 81, 82, 83, 84, 85, 86, 87, 88, 89],\n",
       "        [90, 91, 92, 93, 94, 95, 96, 97, 98, 99]]),\n",
       " array([[-1.08647014,  1.16679063, -1.50745711, -1.54701573, -0.07718016,\n",
       "         -0.77062114, -1.98635658, -0.33275631,  0.17447481, -1.40737886]]),\n",
       " (1, 10))"
      ]
     },
     "execution_count": 34,
     "metadata": {},
     "output_type": "execute_result"
    }
   ],
   "source": [
    "X = np.arange(100).reshape(10,10)\n",
    "Y = np.random.randn(10).reshape(1,10)\n",
    "\n",
    "X,Y, Y.shape"
   ]
  },
  {
   "cell_type": "code",
   "execution_count": 35,
   "metadata": {},
   "outputs": [
    {
     "name": "stdout",
     "output_type": "stream",
     "text": [
      "batch 0\n",
      "--------\n",
      "X: [[ 0  1  2]\n",
      " [10 11 12]\n",
      " [20 21 22]\n",
      " [30 31 32]\n",
      " [40 41 42]\n",
      " [50 51 52]\n",
      " [60 61 62]\n",
      " [70 71 72]\n",
      " [80 81 82]\n",
      " [90 91 92]]\n",
      "Y: [-1.08647014  1.16679063 -1.50745711]\n",
      "batch 1\n",
      "--------\n",
      "X: [[ 3  4  5]\n",
      " [13 14 15]\n",
      " [23 24 25]\n",
      " [33 34 35]\n",
      " [43 44 45]\n",
      " [53 54 55]\n",
      " [63 64 65]\n",
      " [73 74 75]\n",
      " [83 84 85]\n",
      " [93 94 95]]\n",
      "Y: [-1.54701573 -0.07718016 -0.77062114]\n",
      "batch 2\n",
      "--------\n",
      "X: [[ 6  7  8]\n",
      " [16 17 18]\n",
      " [26 27 28]\n",
      " [36 37 38]\n",
      " [46 47 48]\n",
      " [56 57 58]\n",
      " [66 67 68]\n",
      " [76 77 78]\n",
      " [86 87 88]\n",
      " [96 97 98]]\n",
      "Y: [-1.98635658 -0.33275631  0.17447481]\n",
      "batch 3\n",
      "--------\n",
      "X: [[ 9]\n",
      " [19]\n",
      " [29]\n",
      " [39]\n",
      " [49]\n",
      " [59]\n",
      " [69]\n",
      " [79]\n",
      " [89]\n",
      " [99]]\n",
      "Y: [-1.40737886]\n"
     ]
    }
   ],
   "source": [
    "def batch(X, Y, size = 3):\n",
    "    \n",
    "    start = 0 \n",
    "    end = size \n",
    "    \n",
    "    for i in range (int(X.shape[1]/size) + 1): \n",
    "        \n",
    "        xbatch = X[0:X.shape[0], start:end]\n",
    "        ybatch = Y[0, start:end]\n",
    "        #Instead of printing, can we externally save \"batch i\"?   \n",
    "        print(\"batch {}\".format(i))\n",
    "        print(\"--------\")\n",
    "        print(\"X:\", xbatch)\n",
    "        print(\"Y:\", ybatch)\n",
    "        print()\n",
    "        \n",
    "        start += size \n",
    "        end += size\n",
    "\n",
    "batch(X, Y, size = 3)"
   ]
  },
  {
   "cell_type": "markdown",
   "metadata": {},
   "source": [
    "**Initialize**"
   ]
  },
  {
   "cell_type": "code",
   "execution_count": 9,
   "metadata": {},
   "outputs": [
    {
     "data": {
      "text/plain": [
       "(array([[-1.31580058],\n",
       "        [-1.53575282],\n",
       "        [-1.11462306],\n",
       "        [ 3.23856131],\n",
       "        [ 0.22403524],\n",
       "        [-0.40690645],\n",
       "        [-0.32455089],\n",
       "        [ 1.81276063],\n",
       "        [-0.47460361],\n",
       "        [ 1.77474713]]),\n",
       " array([-1.47886832]))"
      ]
     },
     "execution_count": 9,
     "metadata": {},
     "output_type": "execute_result"
    }
   ],
   "source": [
    "n_features = 10 \n",
    "\n",
    "def initialize_parameters(n_features): \n",
    "    weight = np.random.randn(n_features,1)\n",
    "    bias = np.random.randn(1)\n",
    "    return weight, bias \n",
    "\n",
    "weight, bias = initialize_parameters(n_features)\n",
    "weight, bias "
   ]
  },
  {
   "cell_type": "markdown",
   "metadata": {},
   "source": [
    "**Shuffle** "
   ]
  },
  {
   "cell_type": "code",
   "execution_count": null,
   "metadata": {},
   "outputs": [],
   "source": [
    "\"\"\"Depending on the structure of the package, \n",
    "random_idx = np.arange(m_samples)\n",
    "np.random.shuffle(random_idx)\n",
    "random_idx.reshape(1,m_samples)\n",
    "\n",
    "X_shuffled = np.empty([n_features, m_samples ])\n",
    "\n",
    "for i in range (m_samples): \n",
    "    X_shuffled[:,i] = X[:,random_idx[i]]\"\"\"\n",
    "\n",
    "def shuffle(X): \n",
    "    random_idx = np.arange(X.shape[1])\n",
    "    np.random.shuffle(random_idx)\n",
    "    random_idx.reshape(1,X.shape[1])\n",
    "    \n",
    "    X_shuffled = np.empty([X.shape[0], X.shape[1]])\n",
    "    \n",
    "    for i in range (X.shape[1]): \n",
    "        X_shuffled[:,i] = X[:,random_idx[i]]\n",
    "    \n",
    "    return X_shuffled "
   ]
  }
 ],
 "metadata": {
  "kernelspec": {
   "display_name": "Python 3",
   "language": "python",
   "name": "python3"
  },
  "language_info": {
   "codemirror_mode": {
    "name": "ipython",
    "version": 3
   },
   "file_extension": ".py",
   "mimetype": "text/x-python",
   "name": "python",
   "nbconvert_exporter": "python",
   "pygments_lexer": "ipython3",
   "version": "3.7.6"
  }
 },
 "nbformat": 4,
 "nbformat_minor": 4
}
